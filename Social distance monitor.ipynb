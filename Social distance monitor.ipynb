{
 "cells": [
  {
   "cell_type": "markdown",
   "metadata": {},
   "source": [
    "# IMPORTING LIBRARIES"
   ]
  },
  {
   "cell_type": "code",
   "execution_count": 2,
   "metadata": {},
   "outputs": [],
   "source": [
    "import cv2\n",
    "import numpy as np\n",
    "import math\n",
    "from twilio.rest import Client\n",
    "import os"
   ]
  },
  {
   "cell_type": "markdown",
   "metadata": {},
   "source": [
    "# IMPORTING PREDEFINED CLASSIFIER"
   ]
  },
  {
   "cell_type": "code",
   "execution_count": 3,
   "metadata": {},
   "outputs": [],
   "source": [
    "harcascades = cv2.CascadeClassifier('C:/Users/G.VENKATARAMANA/haarcascades/haarcascade_frontalface_default.xml')"
   ]
  },
  {
   "cell_type": "markdown",
   "metadata": {},
   "source": [
    "# SETTING THE CLIENT OBJECT"
   ]
  },
  {
   "cell_type": "code",
   "execution_count": null,
   "metadata": {},
   "outputs": [],
   "source": [
    "client = Client('AC3456aa9710058e08d8dd484e8fd6e34e','23973e15fa1548c6d94fca3250a2b991')"
   ]
  },
  {
   "cell_type": "markdown",
   "metadata": {},
   "source": [
    "# MONITORING THE PEOPLE IN MAINTAINING SOCIAL DISTANCING"
   ]
  },
  {
   "cell_type": "code",
   "execution_count": 4,
   "metadata": {},
   "outputs": [],
   "source": [
    "cap = cv2.VideoCapture(0)\n",
    "\n",
    "height = int(cap.get(cv2.CAP_PROP_FRAME_HEIGHT))\n",
    "width  = int(cap.get(cv2.CAP_PROP_FRAME_WIDTH))\n",
    "out = cv2.VideoWriter('output.avi',cv2.VideoWriter_fourcc(*'DIVX' ), 20.0, (width,height))\n",
    "\n",
    "\n",
    "while True:\n",
    "    ret,frame = cap.read()\n",
    "    gray = cv2.cvtColor(frame,cv2.COLOR_BGR2RGB)\n",
    "    \n",
    "    faces = harcascades.detectMultiScale(gray,1.1,5)\n",
    "    no_of_faces = len(faces)      \n",
    "    if len(faces) == 0:\n",
    "        pass\n",
    "    else:\n",
    "        for x,y,w,h in faces:    \n",
    "            face = cv2.rectangle(frame,(x,y),(x+w,y+h),(255,0,0),7)\n",
    "            if no_of_faces >= 2:\n",
    "                x1 = faces[no_of_faces-2][0]\n",
    "                y1 = faces[no_of_faces-2][1]\n",
    "                w1 = x1 + faces[no_of_faces-2][2]\n",
    "                h1 = y1 + faces[no_of_faces-2][3]\n",
    "            else:\n",
    "                pass\n",
    "        if no_of_faces == 1:\n",
    "            distance = round(3200/(w*12),2)\n",
    "            cv2.putText(frame,\"Distance  is \" + str(distance) + \"feet\",(160,50),cv2.FONT_HERSHEY_SIMPLEX,1,(255,0,0),2,cv2.LINE_AA)\n",
    "        else:\n",
    "            distance = math.sqrt(  (x-x1) **2 + (y-y1)**2 )\n",
    "            actual_distance = round(3200/(distance*12),2)\n",
    "            cv2.putText(frame,\"Distance  is \" + str(actual_distance) + \"  feet\",(30,50),cv2.FONT_HERSHEY_SIMPLEX,1,(255,0,0),2,cv2.LINE_AA)\n",
    "            if actual_distance >2:\n",
    "                cv2.putText(frame,'VIOLATING SOCIAL DISTANCING',(60,100),cv2.FONT_HERSHEY_SIMPLEX,1,(0,0,255),2,cv2.LINE_AA,bottomLeftOrigin =False)\n",
    "                out.write(frame)\n",
    "                client.messages.create(to = '+916281270645',from_ = '+13343674251',body= 'ALERT !!! TWO PEOPLE VIOLATED SOCIAL DISTANCING')\n",
    "            elif actual_distance <=2:\n",
    "                cv2.putText(frame,'MAINTAINING SOCIAL DISTANCING',(60,110),cv2.FONT_HERSHEY_SIMPLEX,1,(0,255,0),2,cv2.LINE_AA,bottomLeftOrigin =False)\n",
    "                \n",
    "        \n",
    "    \n",
    "    cv2.imshow('faces',frame)\n",
    "    \n",
    "    if cv2.waitKey(1) & 0xFF == ord('q'):\n",
    "        break\n",
    "        \n",
    "    \n",
    "    ret,frame = cap.read()\n",
    "    \n",
    "\n",
    "cap.release()\n",
    "cv2.destroyAllWindows()"
   ]
  }
 ],
 "metadata": {
  "kernelspec": {
   "display_name": "TENSORFLOW",
   "language": "python",
   "name": "sai"
  },
  "language_info": {
   "codemirror_mode": {
    "name": "ipython",
    "version": 3
   },
   "file_extension": ".py",
   "mimetype": "text/x-python",
   "name": "python",
   "nbconvert_exporter": "python",
   "pygments_lexer": "ipython3",
   "version": "3.7.6"
  }
 },
 "nbformat": 4,
 "nbformat_minor": 4
}
